{
 "cells": [
  {
   "cell_type": "code",
   "execution_count": 2,
   "id": "e0f1a880",
   "metadata": {},
   "outputs": [],
   "source": [
    "import numpy as np\n",
    "import pandas as pd\n",
    "import pandas_datareader as web\n",
    "import matplotlib as plt\n",
    "import yahoo_fin.stock_info as si\n",
    "from yahoo_fin import options\n",
    "from datetime import date\n",
    "from pylab import mpl, plt\n",
    "from scipy.optimize import brute"
   ]
  },
  {
   "cell_type": "code",
   "execution_count": 3,
   "id": "6040dd40",
   "metadata": {},
   "outputs": [],
   "source": [
    "import datetime \n",
    "\n",
    "today = datetime.date.today()\n",
    "yesterday = today - datetime.timedelta(days = 1)\n",
    "twelve_years_ago = today - datetime.timedelta(days = 3000)\n"
   ]
  },
  {
   "cell_type": "code",
   "execution_count": 4,
   "id": "116bfb2e",
   "metadata": {},
   "outputs": [],
   "source": [
    "#Select the ticker\n",
    "# Brent Crude:              BZ=F                    # EURUSD:               EURUSD=X\n",
    "# Henry Hub_front year:     NG=F                    # GBPUSD:               GBPUSD=X\n",
    "# TTF_front year:           TTF=F                \n",
    "# Carbon EUA:\n",
    "# Plug Power:                PLUG                   # Fuelcell Energy         FCEL\n",
    "# Cummins Inc.               CMI \n",
    "# Ballard Power Systems Inc. BLDP\n",
    "# Gold                      GC=F\n",
    "# Gold Miners ETF           GDX\n",
    "\n",
    "symbol = 'BZ=F' "
   ]
  },
  {
   "cell_type": "code",
   "execution_count": 5,
   "id": "cdcc3a08",
   "metadata": {},
   "outputs": [],
   "source": [
    "# Select time of analysis\n",
    "\n",
    "start = twelve_years_ago\n",
    "end = yesterday\n",
    "\n",
    "start_cutoff = 2018-1-1  # come faccio a scriverlo con una formula?\n",
    "end_cutoff = 2017-12-31  # come faccio a scriverlo con una formula?"
   ]
  },
  {
   "cell_type": "code",
   "execution_count": 1,
   "id": "d4c6a5c1",
   "metadata": {},
   "outputs": [
    {
     "ename": "ModuleNotFoundError",
     "evalue": "No module named 'SMAVectorBacktester'",
     "output_type": "error",
     "traceback": [
      "\u001b[1;31m---------------------------------------------------------------------------\u001b[0m",
      "\u001b[1;31mModuleNotFoundError\u001b[0m                       Traceback (most recent call last)",
      "\u001b[1;32mC:\\Users\\FB9CE~1.CAM\\AppData\\Local\\Temp/ipykernel_14352/56767107.py\u001b[0m in \u001b[0;36m<module>\u001b[1;34m\u001b[0m\n\u001b[0;32m      1\u001b[0m \u001b[1;31m# Run SMAVectorBacktester in order to get the best SMAs = (return , outperformance)\u001b[0m\u001b[1;33m\u001b[0m\u001b[1;33m\u001b[0m\u001b[0m\n\u001b[0;32m      2\u001b[0m \u001b[1;33m\u001b[0m\u001b[0m\n\u001b[1;32m----> 3\u001b[1;33m \u001b[1;32mimport\u001b[0m \u001b[0mSMAVectorBacktester\u001b[0m \u001b[1;32mas\u001b[0m \u001b[0mSMA\u001b[0m \u001b[1;31m# import of the module\u001b[0m\u001b[1;33m\u001b[0m\u001b[1;33m\u001b[0m\u001b[0m\n\u001b[0m\u001b[0;32m      4\u001b[0m \u001b[0msmabt\u001b[0m \u001b[1;33m=\u001b[0m \u001b[0mSMA\u001b[0m\u001b[1;33m.\u001b[0m\u001b[0mSMAVectorBacktester\u001b[0m\u001b[1;33m(\u001b[0m\u001b[0msymbol\u001b[0m\u001b[1;33m,\u001b[0m \u001b[1;36m42\u001b[0m\u001b[1;33m,\u001b[0m \u001b[1;36m252\u001b[0m\u001b[1;33m,\u001b[0m \u001b[0mstart\u001b[0m \u001b[1;33m,\u001b[0m \u001b[0mend\u001b[0m\u001b[1;33m)\u001b[0m \u001b[1;31m#An instance of the main class is instantiated.\u001b[0m\u001b[1;33m\u001b[0m\u001b[1;33m\u001b[0m\u001b[0m\n\u001b[0;32m      5\u001b[0m \u001b[0msmabt\u001b[0m\u001b[1;33m.\u001b[0m\u001b[0mrun_strategy\u001b[0m\u001b[1;33m(\u001b[0m\u001b[1;33m)\u001b[0m \u001b[1;31m# Backtests the SMA-based strategy given the parameters during instantiation.\u001b[0m\u001b[1;33m\u001b[0m\u001b[1;33m\u001b[0m\u001b[0m\n",
      "\u001b[1;31mModuleNotFoundError\u001b[0m: No module named 'SMAVectorBacktester'"
     ]
    }
   ],
   "source": [
    "# Run SMAVectorBacktester in order to get the best SMAs = (return , outperformance)\n",
    "\n",
    "import SMAVectorBacktester as SMA # import of the module\n",
    "smabt = SMA.SMAVectorBacktester(symbol, 42, 252, start , end) #An instance of the main class is instantiated.\n",
    "smabt.run_strategy() # Backtests the SMA-based strategy given the parameters during instantiation."
   ]
  },
  {
   "cell_type": "code",
   "execution_count": null,
   "id": "05493408",
   "metadata": {},
   "outputs": [],
   "source": []
  }
 ],
 "metadata": {
  "kernelspec": {
   "display_name": "Python 3 (ipykernel)",
   "language": "python",
   "name": "python3"
  },
  "language_info": {
   "codemirror_mode": {
    "name": "ipython",
    "version": 3
   },
   "file_extension": ".py",
   "mimetype": "text/x-python",
   "name": "python",
   "nbconvert_exporter": "python",
   "pygments_lexer": "ipython3",
   "version": "3.9.7"
  }
 },
 "nbformat": 4,
 "nbformat_minor": 5
}
