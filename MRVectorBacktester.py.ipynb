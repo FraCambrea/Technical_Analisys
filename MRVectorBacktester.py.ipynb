{
 "cells": [
  {
   "cell_type": "code",
   "execution_count": 1,
   "id": "57a682d3",
   "metadata": {},
   "outputs": [
    {
     "ename": "ModuleNotFoundError",
     "evalue": "No module named 'MomVectorBacktester'",
     "output_type": "error",
     "traceback": [
      "\u001b[1;31m---------------------------------------------------------------------------\u001b[0m",
      "\u001b[1;31mModuleNotFoundError\u001b[0m                       Traceback (most recent call last)",
      "\u001b[1;32mC:\\Users\\FB9CE~1.CAM\\AppData\\Local\\Temp/ipykernel_13220/857880199.py\u001b[0m in \u001b[0;36m<module>\u001b[1;34m\u001b[0m\n\u001b[1;32m----> 1\u001b[1;33m \u001b[1;32mfrom\u001b[0m \u001b[0mMomVectorBacktester\u001b[0m \u001b[1;32mimport\u001b[0m \u001b[1;33m*\u001b[0m\u001b[1;33m\u001b[0m\u001b[1;33m\u001b[0m\u001b[0m\n\u001b[0m\u001b[0;32m      2\u001b[0m \u001b[1;32mimport\u001b[0m \u001b[0myahoo_fin\u001b[0m\u001b[1;33m.\u001b[0m\u001b[0mstock_info\u001b[0m \u001b[1;32mas\u001b[0m \u001b[0msi\u001b[0m\u001b[1;33m\u001b[0m\u001b[1;33m\u001b[0m\u001b[0m\n\u001b[0;32m      3\u001b[0m \u001b[1;33m\u001b[0m\u001b[0m\n\u001b[0;32m      4\u001b[0m \u001b[1;32mclass\u001b[0m \u001b[0mMRVectorBacktester\u001b[0m\u001b[1;33m(\u001b[0m\u001b[0mMomVectorBacktester\u001b[0m\u001b[1;33m)\u001b[0m\u001b[1;33m:\u001b[0m\u001b[1;33m\u001b[0m\u001b[1;33m\u001b[0m\u001b[0m\n\u001b[0;32m      5\u001b[0m     ''' Class for the vectorized backtesting of\n",
      "\u001b[1;31mModuleNotFoundError\u001b[0m: No module named 'MomVectorBacktester'"
     ]
    }
   ],
   "source": [
    "from MomVectorBacktester import *\n",
    "import yahoo_fin.stock_info as si\n",
    "\n",
    "class MRVectorBacktester(MomVectorBacktester):\n",
    "    ''' Class for the vectorized backtesting of\n",
    "    Mean Reversion-based trading strategies.\n",
    "\n",
    "    Attributes\n",
    "    ==========\n",
    "    symbol: str\n",
    "        RIC symbol with which to work with\n",
    "    start: str\n",
    "        start date for data retrieval\n",
    "    end: str\n",
    "        end date for data retrieval\n",
    "    amount: int, float\n",
    "        amount to be invested at the beginning\n",
    "    tc: float\n",
    "        proportional transaction costs (e.g. 0.5% = 0.005) per trade\n",
    "\n",
    "    Methods\n",
    "    =======\n",
    "    get_data:\n",
    "        retrieves and prepares the base data set\n",
    "    run_strategy:\n",
    "        runs the backtest for the mean reversion-based strategy\n",
    "    plot_results:\n",
    "        plots the performance of the strategy compared to the symbol\n",
    "    '''\n",
    "\n",
    "    def run_strategy(self, SMA, threshold):\n",
    "        ''' Backtests the trading strategy.\n",
    "        '''\n",
    "        data = self.data.copy().dropna()\n",
    "        data['sma'] = data['price'].rolling(SMA).mean()\n",
    "        data['distance'] = data['price'] - data['sma']\n",
    "        data.dropna(inplace=True)\n",
    "        # sell signals\n",
    "        data['position'] = np.where(data['distance'] > threshold,\n",
    "                                    -1, np.nan)\n",
    "        # buy signals\n",
    "        data['position'] = np.where(data['distance'] < -threshold,\n",
    "                                    1, data['position'])\n",
    "        # crossing of current price and SMA (zero distance)\n",
    "        data['position'] = np.where(data['distance'] *\n",
    "                                    data['distance'].shift(1) < 0,\n",
    "                                    0, data['position'])\n",
    "        data['position'] = data['position'].ffill().fillna(0)\n",
    "        data['strategy'] = data['position'].shift(1) * data['return']\n",
    "        # determine when a trade takes place\n",
    "        trades = data['position'].diff().fillna(0) != 0\n",
    "        # subtract transaction costs from return when trade takes place\n",
    "        data['strategy'][trades] -= self.tc\n",
    "        data['creturns'] = self.amount * \\\n",
    "            data['return'].cumsum().apply(np.exp)\n",
    "        data['cstrategy'] = self.amount * \\\n",
    "            data['strategy'].cumsum().apply(np.exp)\n",
    "        self.results = data\n",
    "        # absolute performance of the strategy\n",
    "        aperf = self.results['cstrategy'].iloc[-1]\n",
    "        # out-/underperformance of strategy\n",
    "        operf = aperf - self.results['creturns'].iloc[-1]\n",
    "        return round(aperf, 2), round(operf, 2)\n",
    "\n",
    "\n",
    "if __name__ == '__main__':\n",
    "    mrbt = MRVectorBacktester(symbol, start, end,\n",
    "                              1, 0.0)\n",
    "    print(mrbt.run_strategy(SMA=25, threshold=5))\n",
    "    mrbt = MRVectorBacktester(symbol, start, end,\n",
    "                              1, 0.001)\n",
    "    print(mrbt.run_strategy(SMA=25, threshold=5))\n",
    "    mrbt = MRVectorBacktester(symbol, start, end,\n",
    "                              1, 0.001)\n",
    "    print(mrbt.run_strategy(SMA=42, threshold=7.5))\n"
   ]
  },
  {
   "cell_type": "code",
   "execution_count": null,
   "id": "a4c7fed1",
   "metadata": {},
   "outputs": [],
   "source": []
  }
 ],
 "metadata": {
  "kernelspec": {
   "display_name": "Python 3 (ipykernel)",
   "language": "python",
   "name": "python3"
  },
  "language_info": {
   "codemirror_mode": {
    "name": "ipython",
    "version": 3
   },
   "file_extension": ".py",
   "mimetype": "text/x-python",
   "name": "python",
   "nbconvert_exporter": "python",
   "pygments_lexer": "ipython3",
   "version": "3.9.7"
  }
 },
 "nbformat": 4,
 "nbformat_minor": 5
}
